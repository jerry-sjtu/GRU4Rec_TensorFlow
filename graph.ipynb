{
 "cells": [
  {
   "cell_type": "code",
   "execution_count": 1,
   "metadata": {
    "collapsed": true
   },
   "outputs": [],
   "source": [
    "import tensorflow as tf"
   ]
  },
  {
   "cell_type": "code",
   "execution_count": 7,
   "metadata": {},
   "outputs": [
    {
     "name": "stdout",
     "output_type": "stream",
     "text": [
      "[30.0, 31.0]\n"
     ]
    }
   ],
   "source": [
    "\n",
    "# Build a graph.\n",
    "a = tf.constant(5.0)\n",
    "b = tf.constant(6.0)\n",
    "c = a * b\n",
    "d = c + 1\n",
    "\n",
    "# A Session object encapsulates the environment in which Operation \n",
    "# objects are executed, and Tensor objects are evaluated.\n",
    "config=tf.ConfigProto(allow_soft_placement=True, log_device_placement=True)\n",
    "with tf.Session(config=config) as sess:\n",
    "  print(sess.run([c,d]))"
   ]
  },
  {
   "cell_type": "code",
   "execution_count": 9,
   "metadata": {},
   "outputs": [
    {
     "name": "stdout",
     "output_type": "stream",
     "text": [
      "[1 2 3 4]\n"
     ]
    }
   ],
   "source": [
    "diagonal=[[1,0,0,0],\n",
    " [0,2,0,0],\n",
    " [0,0,3,0],\n",
    " [0,0,0,4]]\n",
    "with tf.Session() as sess:\n",
    "     print(sess.run(tf.diag_part(diagonal)))"
   ]
  },
  {
   "cell_type": "code",
   "execution_count": 16,
   "metadata": {},
   "outputs": [
    {
     "name": "stdout",
     "output_type": "stream",
     "text": [
      "1.5\n",
      "[ 1.5  1.5]\n",
      "[ 1.  2.]\n"
     ]
    }
   ],
   "source": [
    "with tf.Session() as sess:\n",
    "    x = tf.constant([[1., 1.], [2., 2.]])\n",
    "    print(sess.run(tf.reduce_mean(x)))  # 1.5\n",
    "    print(sess.run(tf.reduce_mean(x, 0)))  # [1.5, 1.5]\n",
    "    print(sess.run(tf.reduce_mean(x, 1)))  # [1.,  2.]"
   ]
  },
  {
   "cell_type": "code",
   "execution_count": null,
   "metadata": {
    "collapsed": true
   },
   "outputs": [],
   "source": []
  }
 ],
 "metadata": {
  "kernelspec": {
   "display_name": "Python 3",
   "language": "python",
   "name": "python3"
  },
  "language_info": {
   "codemirror_mode": {
    "name": "ipython",
    "version": 3
   },
   "file_extension": ".py",
   "mimetype": "text/x-python",
   "name": "python",
   "nbconvert_exporter": "python",
   "pygments_lexer": "ipython3",
   "version": "3.6.2"
  }
 },
 "nbformat": 4,
 "nbformat_minor": 2
}
