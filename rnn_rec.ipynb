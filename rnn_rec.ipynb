{
 "cells": [
  {
   "cell_type": "code",
   "execution_count": 1,
   "metadata": {
    "collapsed": true
   },
   "outputs": [],
   "source": [
    "import os\n",
    "import tensorflow as tf\n",
    "import pandas as pd\n",
    "import numpy as np\n",
    "import argparse\n",
    "\n",
    "import model\n",
    "import evaluation\n",
    "\n",
    "PATH_TO_TRAIN = '/Users/qiangwang/Data/recsys/yoochoose-data/yoochoose-clicks.dat'\n",
    "PATH_TO_TEST = '/Users/qiangwang/Data/recsys/yoochoose-data/yoochoose-test.dat'\n",
    "\n",
    "class Args():\n",
    "    is_training = False\n",
    "    layers = 1\n",
    "    rnn_size = 100\n",
    "    n_epochs = 3\n",
    "    batch_size = 50\n",
    "    dropout_p_hidden=1\n",
    "    learning_rate = 0.001\n",
    "    decay = 0.96\n",
    "    decay_steps = 1e4\n",
    "    sigma = 0\n",
    "    init_as_normal = False\n",
    "    reset_after_session = True\n",
    "    session_key = 'SessionId'\n",
    "    item_key = 'ItemId'\n",
    "    time_key = 'Timestamp'\n",
    "    grad_cap = 0\n",
    "    test_model = 2\n",
    "    checkpoint_dir = './checkpoint'\n",
    "    loss = 'cross-entropy'\n",
    "    final_act = 'softmax'\n",
    "    hidden_act = 'tanh'\n",
    "    n_items = -1\n",
    "\n",
    "def parseArgs():\n",
    "    parser = argparse.ArgumentParser(description='GRU4Rec args')\n",
    "    parser.add_argument('--layer', default=1, type=int)\n",
    "    parser.add_argument('--size', default=100, type=int)\n",
    "    parser.add_argument('--epoch', default=3, type=int)\n",
    "    parser.add_argument('--lr', default=0.001, type=float)\n",
    "    parser.add_argument('--train', default=1, type=int)\n",
    "    parser.add_argument('--test', default=2, type=int)\n",
    "    parser.add_argument('--hidden_act', default='tanh', type=str)\n",
    "    parser.add_argument('--final_act', default='softmax', type=str)\n",
    "    parser.add_argument('--loss', default='cross-entropy', type=str)\n",
    "    parser.add_argument('--dropout', default='0.5', type=float)\n",
    "    \n",
    "    return parser.parse_args()"
   ]
  },
  {
   "cell_type": "code",
   "execution_count": 2,
   "metadata": {},
   "outputs": [
    {
     "name": "stderr",
     "output_type": "stream",
     "text": [
      "/Users/qiangwang/anaconda3/lib/python3.6/site-packages/IPython/core/interactiveshell.py:2698: DtypeWarning: Columns (3) have mixed types. Specify dtype option on import or set low_memory=False.\n",
      "  interactivity=interactivity, compiler=compiler, result=result)\n"
     ]
    }
   ],
   "source": [
    "data = pd.read_csv(PATH_TO_TRAIN, header=None, names=['SessionId', 'Timestamp', 'ItemId', 'Label'], sep=',', dtype={'ItemId': np.int64}, parse_dates=['Timestamp'])"
   ]
  },
  {
   "cell_type": "code",
   "execution_count": 15,
   "metadata": {},
   "outputs": [
    {
     "data": {
      "text/html": [
       "<div>\n",
       "<style>\n",
       "    .dataframe thead tr:only-child th {\n",
       "        text-align: right;\n",
       "    }\n",
       "\n",
       "    .dataframe thead th {\n",
       "        text-align: left;\n",
       "    }\n",
       "\n",
       "    .dataframe tbody tr th {\n",
       "        vertical-align: top;\n",
       "    }\n",
       "</style>\n",
       "<table border=\"1\" class=\"dataframe\">\n",
       "  <thead>\n",
       "    <tr style=\"text-align: right;\">\n",
       "      <th></th>\n",
       "      <th>SessionId</th>\n",
       "      <th>ItemId</th>\n",
       "    </tr>\n",
       "  </thead>\n",
       "  <tbody>\n",
       "    <tr>\n",
       "      <th>count</th>\n",
       "      <td>3.300394e+07</td>\n",
       "      <td>3.300394e+07</td>\n",
       "    </tr>\n",
       "    <tr>\n",
       "      <th>mean</th>\n",
       "      <td>5.620195e+06</td>\n",
       "      <td>2.168345e+08</td>\n",
       "    </tr>\n",
       "    <tr>\n",
       "      <th>std</th>\n",
       "      <td>3.356590e+06</td>\n",
       "      <td>2.981944e+07</td>\n",
       "    </tr>\n",
       "    <tr>\n",
       "      <th>min</th>\n",
       "      <td>1.000000e+00</td>\n",
       "      <td>2.145072e+08</td>\n",
       "    </tr>\n",
       "    <tr>\n",
       "      <th>25%</th>\n",
       "      <td>2.691097e+06</td>\n",
       "      <td>2.146761e+08</td>\n",
       "    </tr>\n",
       "    <tr>\n",
       "      <th>50%</th>\n",
       "      <td>5.516873e+06</td>\n",
       "      <td>2.148268e+08</td>\n",
       "    </tr>\n",
       "    <tr>\n",
       "      <th>75%</th>\n",
       "      <td>8.527383e+06</td>\n",
       "      <td>2.148454e+08</td>\n",
       "    </tr>\n",
       "    <tr>\n",
       "      <th>max</th>\n",
       "      <td>1.156216e+07</td>\n",
       "      <td>1.178838e+09</td>\n",
       "    </tr>\n",
       "  </tbody>\n",
       "</table>\n",
       "</div>"
      ],
      "text/plain": [
       "          SessionId        ItemId\n",
       "count  3.300394e+07  3.300394e+07\n",
       "mean   5.620195e+06  2.168345e+08\n",
       "std    3.356590e+06  2.981944e+07\n",
       "min    1.000000e+00  2.145072e+08\n",
       "25%    2.691097e+06  2.146761e+08\n",
       "50%    5.516873e+06  2.148268e+08\n",
       "75%    8.527383e+06  2.148454e+08\n",
       "max    1.156216e+07  1.178838e+09"
      ]
     },
     "execution_count": 15,
     "metadata": {},
     "output_type": "execute_result"
    }
   ],
   "source": [
    "data.describe()"
   ]
  },
  {
   "cell_type": "code",
   "execution_count": 3,
   "metadata": {},
   "outputs": [
    {
     "data": {
      "text/plain": [
       "SessionId             int64\n",
       "Timestamp    datetime64[ns]\n",
       "ItemId                int64\n",
       "Label                object\n",
       "dtype: object"
      ]
     },
     "execution_count": 3,
     "metadata": {},
     "output_type": "execute_result"
    }
   ],
   "source": [
    "data.dtypes"
   ]
  },
  {
   "cell_type": "code",
   "execution_count": null,
   "metadata": {},
   "outputs": [
    {
     "name": "stdout",
     "output_type": "stream",
     "text": [
      "0.5\n",
      "fitting model...\n",
      "Epoch 0\tStep 1\tlr: 0.001000\tloss: 3.912021\n",
      "Epoch 0\tStep 10000\tlr: 0.001000\tloss: 2.326884\n",
      "Epoch 0\tStep 20000\tlr: 0.000960\tloss: 2.040384\n",
      "Epoch 0\tStep 30000\tlr: 0.000922\tloss: 1.916124\n",
      "Epoch 0\tStep 40000\tlr: 0.000885\tloss: 1.822196\n",
      "Epoch 0\tStep 50000\tlr: 0.000849\tloss: 1.762607\n",
      "Epoch 0\tStep 60000\tlr: 0.000815\tloss: 1.710961\n",
      "Epoch 0\tStep 70000\tlr: 0.000783\tloss: 1.697033\n",
      "Epoch 0\tStep 80000\tlr: 0.000751\tloss: 1.681928\n",
      "Epoch 0\tStep 90000\tlr: 0.000721\tloss: 1.671708\n",
      "Epoch 0\tStep 100000\tlr: 0.000693\tloss: 1.658332\n",
      "Epoch 0\tStep 110000\tlr: 0.000665\tloss: 1.657692\n",
      "Epoch 0\tStep 120000\tlr: 0.000638\tloss: 1.653269\n",
      "Epoch 0\tStep 130000\tlr: 0.000613\tloss: 1.650745\n"
     ]
    }
   ],
   "source": [
    "args = Args()\n",
    "args.n_items = len(data['ItemId'].unique())\n",
    "args.layers = 1\n",
    "args.rnn_size = 100\n",
    "args.n_epochs = 3\n",
    "args.learning_rate = 0.001\n",
    "args.is_training = 1\n",
    "args.test_model = 2\n",
    "args.hidden_act = 'tanh'\n",
    "args.final_act = 'softmax'\n",
    "args.loss = 'cross-entropy'\n",
    "args.dropout_p_hidden = 1.0 if args.is_training == 0 else 0.5\n",
    "print(args.dropout_p_hidden)\n",
    "if not os.path.exists(args.checkpoint_dir):\n",
    "    os.mkdir(args.checkpoint_dir)\n",
    "gpu_config = tf.ConfigProto()\n",
    "gpu_config.gpu_options.allow_growth = True\n",
    "with tf.Session(config=gpu_config) as sess:\n",
    "    gru = model.GRU4Rec(sess, args)\n",
    "    if args.is_training:\n",
    "        gru.fit(data)\n",
    "    else:\n",
    "        res = evaluation.evaluate_sessions_batch(gru, data, valid)\n",
    "        print('Recall@20: {}\\tMRR@20: {}'.format(res[0], res[1]))"
   ]
  },
  {
   "cell_type": "code",
   "execution_count": null,
   "metadata": {
    "collapsed": true
   },
   "outputs": [],
   "source": []
  },
  {
   "cell_type": "code",
   "execution_count": null,
   "metadata": {
    "collapsed": true
   },
   "outputs": [],
   "source": []
  }
 ],
 "metadata": {
  "kernelspec": {
   "display_name": "Python 3",
   "language": "python",
   "name": "python3"
  },
  "language_info": {
   "codemirror_mode": {
    "name": "ipython",
    "version": 3
   },
   "file_extension": ".py",
   "mimetype": "text/x-python",
   "name": "python",
   "nbconvert_exporter": "python",
   "pygments_lexer": "ipython3",
   "version": "3.6.2"
  }
 },
 "nbformat": 4,
 "nbformat_minor": 2
}
